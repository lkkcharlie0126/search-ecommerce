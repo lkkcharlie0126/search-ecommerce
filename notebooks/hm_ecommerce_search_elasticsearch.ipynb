{
 "cells": [
  {
   "cell_type": "code",
   "execution_count": 1,
   "metadata": {},
   "outputs": [
    {
     "name": "stderr",
     "output_type": "stream",
     "text": [
      "/opt/conda/lib/python3.11/site-packages/tqdm/auto.py:21: TqdmWarning: IProgress not found. Please update jupyter and ipywidgets. See https://ipywidgets.readthedocs.io/en/stable/user_install.html\n",
      "  from .autonotebook import tqdm as notebook_tqdm\n",
      "[nltk_data] Downloading package punkt to /root/nltk_data...\n",
      "[nltk_data]   Package punkt is already up-to-date!\n"
     ]
    },
    {
     "data": {
      "text/plain": [
       "True"
      ]
     },
     "execution_count": 1,
     "metadata": {},
     "output_type": "execute_result"
    }
   ],
   "source": [
    "import os\n",
    "import sys\n",
    "\n",
    "import dotenv\n",
    "import nltk\n",
    "import pandas as pd\n",
    "import torch\n",
    "from elasticsearch import Elasticsearch\n",
    "from elasticsearch.helpers import bulk\n",
    "from PIL import Image\n",
    "from sentence_transformers import SentenceTransformer\n",
    "from tqdm.auto import tqdm\n",
    "\n",
    "sys.path.append(\"..\")\n",
    "dotenv.load_dotenv()\n",
    "\n",
    "# Ensure nltk punkt is available\n",
    "nltk.download(\"punkt\")"
   ]
  },
  {
   "cell_type": "code",
   "execution_count": null,
   "metadata": {},
   "outputs": [],
   "source": [
    "IS_CREATING_INDEX = False\n",
    "IS_INDEXING_DATA = False"
   ]
  },
  {
   "cell_type": "code",
   "execution_count": 2,
   "metadata": {},
   "outputs": [
    {
     "name": "stdout",
     "output_type": "stream",
     "text": [
      "Connected to Elasticsearch\n"
     ]
    },
    {
     "name": "stderr",
     "output_type": "stream",
     "text": [
      "/tmp/ipykernel_863150/371617854.py:2: DeprecationWarning: The 'http_auth' parameter is deprecated. Use 'basic_auth' or 'bearer_auth' parameters instead\n",
      "  es = Elasticsearch(\n"
     ]
    }
   ],
   "source": [
    "# Create an Elasticsearch client instance\n",
    "es = Elasticsearch(\n",
    "    [os.getenv(\"ELASTICSEARCH_URL\")],  # Use the service name as the host\n",
    "    http_auth=(\n",
    "        os.getenv(\"ELASTICSEARCH_USERNAME\"),\n",
    "        os.getenv(\"ELASTICSEARCH_PASSWORD\"),\n",
    "    ),  # Username and password\n",
    "    verify_certs=False,  # Disable SSL certificate verification if not using HTTPS\n",
    ")\n",
    "\n",
    "# Check if the connection is successful\n",
    "if es.ping():\n",
    "    print(\"Connected to Elasticsearch\")\n",
    "else:\n",
    "    print(\"Could not connect to Elasticsearch\")"
   ]
  },
  {
   "cell_type": "code",
   "execution_count": 10,
   "metadata": {},
   "outputs": [],
   "source": [
    "# Define index name\n",
    "index_name = \"hm_ecommerce_search\""
   ]
  },
  {
   "cell_type": "code",
   "execution_count": 11,
   "metadata": {},
   "outputs": [
    {
     "name": "stdout",
     "output_type": "stream",
     "text": [
      "Index hm_ecommerce_search already exists\n",
      "Index hm_ecommerce_search deleted\n",
      "Index hm_ecommerce_search created successfully\n"
     ]
    }
   ],
   "source": [
    "# Index settings and mappings\n",
    "def create_index(index_name):\n",
    "    if es.indices.exists(index=index_name):\n",
    "        print(f\"Index {index_name} already exists\")\n",
    "        # delete the index\n",
    "        es.indices.delete(index=index_name)\n",
    "        print(f\"Index {index_name} deleted\")\n",
    "\n",
    "    index_body = {\n",
    "        \"settings\": {\n",
    "            \"number_of_shards\": 1,\n",
    "            \"number_of_replicas\": 0,\n",
    "        },\n",
    "        \"mappings\": {\n",
    "            \"properties\": {\n",
    "                \"productDisplayName\": {\"type\": \"text\", \"analyzer\": \"standard\"},\n",
    "                \"image_vector\": {\n",
    "                    \"type\": \"dense_vector\",\n",
    "                    \"dims\": 512,\n",
    "                    \"index\": True,\n",
    "                    \"similarity\": \"cosine\",\n",
    "                },\n",
    "                \"text_vector\": {\n",
    "                    \"type\": \"dense_vector\",\n",
    "                    \"dims\": 512,\n",
    "                    \"index\": True,\n",
    "                    \"similarity\": \"cosine\",\n",
    "                },  # Adjust dimensions if needed\n",
    "            }\n",
    "        },\n",
    "    }\n",
    "    es.indices.create(index=index_name, body=index_body)\n",
    "    print(f\"Index {index_name} created successfully\")\n",
    "\n",
    "\n",
    "if IS_CREATING_INDEX:\n",
    "    create_index(index_name)"
   ]
  },
  {
   "cell_type": "code",
   "execution_count": 12,
   "metadata": {},
   "outputs": [
    {
     "name": "stdout",
     "output_type": "stream",
     "text": [
      "cuda\n"
     ]
    }
   ],
   "source": [
    "# Load dataset\n",
    "\n",
    "DATASET_PATH = \"../datasets/kaggle_hm/articles.csv\"\n",
    "IMAGES_PATH = \"../datasets/kaggle_hm/images/\"\n",
    "\n",
    "metadata = pd.read_csv(DATASET_PATH, dtype={\"article_id\": str})\n",
    "\n",
    "# Load CLIP model\n",
    "device = \"cuda\" if torch.cuda.is_available() else \"cpu\"\n",
    "print(device)\n",
    "model = SentenceTransformer(\"sentence-transformers/clip-ViT-B-32\", device=device)"
   ]
  },
  {
   "cell_type": "code",
   "execution_count": 13,
   "metadata": {},
   "outputs": [
    {
     "data": {
      "text/html": [
       "<div>\n",
       "<style scoped>\n",
       "    .dataframe tbody tr th:only-of-type {\n",
       "        vertical-align: middle;\n",
       "    }\n",
       "\n",
       "    .dataframe tbody tr th {\n",
       "        vertical-align: top;\n",
       "    }\n",
       "\n",
       "    .dataframe thead th {\n",
       "        text-align: right;\n",
       "    }\n",
       "</style>\n",
       "<table border=\"1\" class=\"dataframe\">\n",
       "  <thead>\n",
       "    <tr style=\"text-align: right;\">\n",
       "      <th></th>\n",
       "      <th>article_id</th>\n",
       "      <th>product_code</th>\n",
       "      <th>prod_name</th>\n",
       "      <th>product_type_no</th>\n",
       "      <th>product_type_name</th>\n",
       "      <th>product_group_name</th>\n",
       "      <th>graphical_appearance_no</th>\n",
       "      <th>graphical_appearance_name</th>\n",
       "      <th>colour_group_code</th>\n",
       "      <th>colour_group_name</th>\n",
       "      <th>...</th>\n",
       "      <th>department_name</th>\n",
       "      <th>index_code</th>\n",
       "      <th>index_name</th>\n",
       "      <th>index_group_no</th>\n",
       "      <th>index_group_name</th>\n",
       "      <th>section_no</th>\n",
       "      <th>section_name</th>\n",
       "      <th>garment_group_no</th>\n",
       "      <th>garment_group_name</th>\n",
       "      <th>detail_desc</th>\n",
       "    </tr>\n",
       "  </thead>\n",
       "  <tbody>\n",
       "    <tr>\n",
       "      <th>0</th>\n",
       "      <td>0108775015</td>\n",
       "      <td>108775</td>\n",
       "      <td>Strap top</td>\n",
       "      <td>253</td>\n",
       "      <td>Vest top</td>\n",
       "      <td>Garment Upper body</td>\n",
       "      <td>1010016</td>\n",
       "      <td>Solid</td>\n",
       "      <td>9</td>\n",
       "      <td>Black</td>\n",
       "      <td>...</td>\n",
       "      <td>Jersey Basic</td>\n",
       "      <td>A</td>\n",
       "      <td>Ladieswear</td>\n",
       "      <td>1</td>\n",
       "      <td>Ladieswear</td>\n",
       "      <td>16</td>\n",
       "      <td>Womens Everyday Basics</td>\n",
       "      <td>1002</td>\n",
       "      <td>Jersey Basic</td>\n",
       "      <td>Jersey top with narrow shoulder straps.</td>\n",
       "    </tr>\n",
       "    <tr>\n",
       "      <th>1</th>\n",
       "      <td>0108775044</td>\n",
       "      <td>108775</td>\n",
       "      <td>Strap top</td>\n",
       "      <td>253</td>\n",
       "      <td>Vest top</td>\n",
       "      <td>Garment Upper body</td>\n",
       "      <td>1010016</td>\n",
       "      <td>Solid</td>\n",
       "      <td>10</td>\n",
       "      <td>White</td>\n",
       "      <td>...</td>\n",
       "      <td>Jersey Basic</td>\n",
       "      <td>A</td>\n",
       "      <td>Ladieswear</td>\n",
       "      <td>1</td>\n",
       "      <td>Ladieswear</td>\n",
       "      <td>16</td>\n",
       "      <td>Womens Everyday Basics</td>\n",
       "      <td>1002</td>\n",
       "      <td>Jersey Basic</td>\n",
       "      <td>Jersey top with narrow shoulder straps.</td>\n",
       "    </tr>\n",
       "    <tr>\n",
       "      <th>2</th>\n",
       "      <td>0108775051</td>\n",
       "      <td>108775</td>\n",
       "      <td>Strap top (1)</td>\n",
       "      <td>253</td>\n",
       "      <td>Vest top</td>\n",
       "      <td>Garment Upper body</td>\n",
       "      <td>1010017</td>\n",
       "      <td>Stripe</td>\n",
       "      <td>11</td>\n",
       "      <td>Off White</td>\n",
       "      <td>...</td>\n",
       "      <td>Jersey Basic</td>\n",
       "      <td>A</td>\n",
       "      <td>Ladieswear</td>\n",
       "      <td>1</td>\n",
       "      <td>Ladieswear</td>\n",
       "      <td>16</td>\n",
       "      <td>Womens Everyday Basics</td>\n",
       "      <td>1002</td>\n",
       "      <td>Jersey Basic</td>\n",
       "      <td>Jersey top with narrow shoulder straps.</td>\n",
       "    </tr>\n",
       "    <tr>\n",
       "      <th>3</th>\n",
       "      <td>0110065001</td>\n",
       "      <td>110065</td>\n",
       "      <td>OP T-shirt (Idro)</td>\n",
       "      <td>306</td>\n",
       "      <td>Bra</td>\n",
       "      <td>Underwear</td>\n",
       "      <td>1010016</td>\n",
       "      <td>Solid</td>\n",
       "      <td>9</td>\n",
       "      <td>Black</td>\n",
       "      <td>...</td>\n",
       "      <td>Clean Lingerie</td>\n",
       "      <td>B</td>\n",
       "      <td>Lingeries/Tights</td>\n",
       "      <td>1</td>\n",
       "      <td>Ladieswear</td>\n",
       "      <td>61</td>\n",
       "      <td>Womens Lingerie</td>\n",
       "      <td>1017</td>\n",
       "      <td>Under-, Nightwear</td>\n",
       "      <td>Microfibre T-shirt bra with underwired, moulde...</td>\n",
       "    </tr>\n",
       "    <tr>\n",
       "      <th>4</th>\n",
       "      <td>0110065002</td>\n",
       "      <td>110065</td>\n",
       "      <td>OP T-shirt (Idro)</td>\n",
       "      <td>306</td>\n",
       "      <td>Bra</td>\n",
       "      <td>Underwear</td>\n",
       "      <td>1010016</td>\n",
       "      <td>Solid</td>\n",
       "      <td>10</td>\n",
       "      <td>White</td>\n",
       "      <td>...</td>\n",
       "      <td>Clean Lingerie</td>\n",
       "      <td>B</td>\n",
       "      <td>Lingeries/Tights</td>\n",
       "      <td>1</td>\n",
       "      <td>Ladieswear</td>\n",
       "      <td>61</td>\n",
       "      <td>Womens Lingerie</td>\n",
       "      <td>1017</td>\n",
       "      <td>Under-, Nightwear</td>\n",
       "      <td>Microfibre T-shirt bra with underwired, moulde...</td>\n",
       "    </tr>\n",
       "  </tbody>\n",
       "</table>\n",
       "<p>5 rows × 25 columns</p>\n",
       "</div>"
      ],
      "text/plain": [
       "   article_id  product_code          prod_name  product_type_no  \\\n",
       "0  0108775015        108775          Strap top              253   \n",
       "1  0108775044        108775          Strap top              253   \n",
       "2  0108775051        108775      Strap top (1)              253   \n",
       "3  0110065001        110065  OP T-shirt (Idro)              306   \n",
       "4  0110065002        110065  OP T-shirt (Idro)              306   \n",
       "\n",
       "  product_type_name  product_group_name  graphical_appearance_no  \\\n",
       "0          Vest top  Garment Upper body                  1010016   \n",
       "1          Vest top  Garment Upper body                  1010016   \n",
       "2          Vest top  Garment Upper body                  1010017   \n",
       "3               Bra           Underwear                  1010016   \n",
       "4               Bra           Underwear                  1010016   \n",
       "\n",
       "  graphical_appearance_name  colour_group_code colour_group_name  ...  \\\n",
       "0                     Solid                  9             Black  ...   \n",
       "1                     Solid                 10             White  ...   \n",
       "2                    Stripe                 11         Off White  ...   \n",
       "3                     Solid                  9             Black  ...   \n",
       "4                     Solid                 10             White  ...   \n",
       "\n",
       "   department_name index_code        index_name index_group_no  \\\n",
       "0     Jersey Basic          A        Ladieswear              1   \n",
       "1     Jersey Basic          A        Ladieswear              1   \n",
       "2     Jersey Basic          A        Ladieswear              1   \n",
       "3   Clean Lingerie          B  Lingeries/Tights              1   \n",
       "4   Clean Lingerie          B  Lingeries/Tights              1   \n",
       "\n",
       "   index_group_name section_no            section_name garment_group_no  \\\n",
       "0        Ladieswear         16  Womens Everyday Basics             1002   \n",
       "1        Ladieswear         16  Womens Everyday Basics             1002   \n",
       "2        Ladieswear         16  Womens Everyday Basics             1002   \n",
       "3        Ladieswear         61         Womens Lingerie             1017   \n",
       "4        Ladieswear         61         Womens Lingerie             1017   \n",
       "\n",
       "   garment_group_name                                        detail_desc  \n",
       "0        Jersey Basic            Jersey top with narrow shoulder straps.  \n",
       "1        Jersey Basic            Jersey top with narrow shoulder straps.  \n",
       "2        Jersey Basic            Jersey top with narrow shoulder straps.  \n",
       "3   Under-, Nightwear  Microfibre T-shirt bra with underwired, moulde...  \n",
       "4   Under-, Nightwear  Microfibre T-shirt bra with underwired, moulde...  \n",
       "\n",
       "[5 rows x 25 columns]"
      ]
     },
     "execution_count": 13,
     "metadata": {},
     "output_type": "execute_result"
    }
   ],
   "source": [
    "metadata.head()"
   ]
  },
  {
   "cell_type": "code",
   "execution_count": null,
   "metadata": {},
   "outputs": [],
   "source": [
    "def index_data_images():\n",
    "    actions = []\n",
    "    batch_size = 200\n",
    "\n",
    "    for i in tqdm(range(0, len(metadata), batch_size)):\n",
    "        batch = metadata.iloc[i : i + batch_size]\n",
    "        img_paths = [\n",
    "            f\"{IMAGES_PATH}{str(row.article_id)[:3]}/{row.article_id}.jpg\"\n",
    "            for _, row in batch.iterrows()\n",
    "        ]\n",
    "        img_batch = []\n",
    "        for path in img_paths:\n",
    "            try:\n",
    "                img = Image.open(path)\n",
    "                img_batch.append(img)\n",
    "            except Exception as e:\n",
    "                print(f\"Error loading image {path}: {str(e)}\")\n",
    "                img_batch.append(None)\n",
    "\n",
    "        try:\n",
    "            # Filter out None values from failed image loads\n",
    "            valid_indices = [i for i, img in enumerate(img_batch) if img is not None]\n",
    "            valid_img_batch = [img_batch[i] for i in valid_indices]\n",
    "            valid_batch = batch.iloc[valid_indices]\n",
    "\n",
    "            if not valid_img_batch:\n",
    "                continue\n",
    "\n",
    "            dense_embeds_image = model.encode(valid_img_batch).tolist()\n",
    "            dense_embeds_text = model.encode(valid_batch[\"prod_name\"].tolist()).tolist()\n",
    "\n",
    "            meta_dict = valid_batch.to_dict(orient=\"records\")\n",
    "            for j, (dense_image, dense_text, row) in enumerate(\n",
    "                zip(dense_embeds_image, dense_embeds_text, meta_dict)\n",
    "            ):\n",
    "                doc_id = f\"{i + valid_indices[j]}\"  # Unique ID\n",
    "                actions.append(\n",
    "                    {\n",
    "                        \"_index\": index_name,\n",
    "                        \"_id\": doc_id,\n",
    "                        \"_source\": {\n",
    "                            \"productDisplayName\": row[\"prod_name\"],\n",
    "                            \"image_vector\": dense_image,\n",
    "                            \"text_vector\": dense_text,\n",
    "                            \"metadata\": row,\n",
    "                        },\n",
    "                    }\n",
    "                )\n",
    "\n",
    "            if len(actions) >= batch_size:\n",
    "                try:\n",
    "                    bulk(\n",
    "                        es, actions, raise_on_error=False\n",
    "                    )  # Don't raise error on failure\n",
    "                except Exception as e:\n",
    "                    print(f\"Error in bulk indexing: {str(e)}\")\n",
    "                actions = []\n",
    "\n",
    "        except Exception as e:\n",
    "            print(f\"Error processing batch starting at index {i}: {str(e)}\")\n",
    "            continue\n",
    "\n",
    "    if actions:\n",
    "        try:\n",
    "            bulk(es, actions, raise_on_error=False)\n",
    "        except Exception as e:\n",
    "            print(f\"Error in final bulk indexing: {str(e)}\")\n",
    "\n",
    "    print(\"Indexing completed\")\n",
    "\n",
    "\n",
    "if IS_INDEXING_DATA:\n",
    "    index_data_images()"
   ]
  },
  {
   "cell_type": "code",
   "execution_count": 15,
   "metadata": {},
   "outputs": [
    {
     "name": "stderr",
     "output_type": "stream",
     "text": [
      "100%|██████████| 528/528 [00:02<00:00, 240.29it/s]\n"
     ]
    }
   ],
   "source": [
    "def create_id_mapping():\n",
    "    id_to_image = {}\n",
    "    batch_size = 200\n",
    "\n",
    "    for i in tqdm(range(0, len(metadata), batch_size)):\n",
    "        batch = metadata.iloc[i : i + batch_size]\n",
    "        img_paths = [\n",
    "            f\"{IMAGES_PATH}{str(row.article_id)[:3]}/{row.article_id}.jpg\"\n",
    "            for _, row in batch.iterrows()\n",
    "        ]\n",
    "\n",
    "        for j, row in enumerate(batch.itertuples(index=False)):\n",
    "            # Use the article_id directly as it's already a string\n",
    "            id_to_image[row.article_id] = img_paths[j]\n",
    "\n",
    "    return id_to_image\n",
    "\n",
    "\n",
    "id_to_image = create_id_mapping()"
   ]
  },
  {
   "cell_type": "markdown",
   "metadata": {},
   "source": [
    "## hybrid search"
   ]
  },
  {
   "cell_type": "code",
   "execution_count": 51,
   "metadata": {},
   "outputs": [],
   "source": [
    "# Hybrid Search Function\n",
    "def search_elasticsearch(query, weights=[0.1, 0.3, 0.6], top_k=10):\n",
    "    \"\"\"Hybrid Search with BM25 + Vector Search\"\"\"\n",
    "\n",
    "    dense_vector = model.encode([query])[0].tolist()\n",
    "    # bm25_query = {\"match\": {\"productDisplayName\": query}}  # Elasticsearch's built-in BM25\n",
    "\n",
    "    # bm25_query = {\n",
    "    #     \"script_score\": {\n",
    "    #         \"query\": {\"match\": {\"productDisplayName\": query}},\n",
    "    #         \"script\": {\n",
    "    #             \"source\": \"( _score - params.min_score ) / ( params.max_score - params.min_score )\",\n",
    "    #             \"params\": {\n",
    "    #                 \"min_score\": 0,   # Set an estimated BM25 min score\n",
    "    #                 \"max_score\": 10   # Set an estimated BM25 max score\n",
    "    #             }\n",
    "    #         }\n",
    "    #     }\n",
    "    # }\n",
    "\n",
    "    # bm25_query = {\n",
    "    #     \"script_score\": {\n",
    "    #         \"query\": {\"match\": {\"productDisplayName\": query}},\n",
    "    #         \"script\": {\n",
    "    #             \"source\": \"Math.log(_score + 1)\"  # Apply log scaling\n",
    "    #         }\n",
    "    #     }\n",
    "    # }\n",
    "\n",
    "    bm25_query = {\n",
    "        \"size\": 1,  # Get only the top-scoring document\n",
    "        \"query\": {\"match\": {\"productDisplayName\": query}},\n",
    "    }\n",
    "    bm25_response = es.search(index=index_name, body=bm25_query)\n",
    "\n",
    "    if bm25_response[\"hits\"][\"hits\"]:\n",
    "        max_bm25_score = bm25_response[\"hits\"][\"hits\"][0][\"_score\"]\n",
    "    else:\n",
    "        max_bm25_score = 1  # Avoid division by zero\n",
    "\n",
    "    # Step 2: Hybrid query with normalized BM25 scores\n",
    "    bm25_query = {\n",
    "        \"script_score\": {\n",
    "            \"query\": {\"match\": {\"productDisplayName\": query}},\n",
    "            \"script\": {\n",
    "                \"source\": \"( _score / params.max_score )\",  # Normalize BM25\n",
    "                \"params\": {\n",
    "                    \"max_score\": max(max_bm25_score, 1)\n",
    "                },  # Avoid division by zero\n",
    "            },\n",
    "        }\n",
    "    }\n",
    "\n",
    "    image_vector_query = {\n",
    "        \"script_score\": {\n",
    "            \"query\": {\"match_all\": {}},\n",
    "            \"script\": {\n",
    "                \"source\": \"(cosineSimilarity(params.query_vector, 'image_vector') + 1.0) / 2.0\",\n",
    "                \"params\": {\"query_vector\": dense_vector},\n",
    "            },\n",
    "        }\n",
    "    }\n",
    "\n",
    "    text_vector_query = {\n",
    "        \"script_score\": {\n",
    "            \"query\": {\"match_all\": {}},\n",
    "            \"script\": {\n",
    "                \"source\": \"(cosineSimilarity(params.query_vector, 'text_vector') + 1.0) / 2.0\",\n",
    "                \"params\": {\"query_vector\": dense_vector},\n",
    "            },\n",
    "        }\n",
    "    }\n",
    "\n",
    "    hybrid_query = {\n",
    "        \"size\": top_k,\n",
    "        \"query\": {\n",
    "            \"bool\": {\n",
    "                \"should\": [\n",
    "                    {\"function_score\": {\"query\": bm25_query, \"boost\": weights[0]}},\n",
    "                    {\n",
    "                        \"function_score\": {\n",
    "                            \"query\": image_vector_query,\n",
    "                            \"boost\": weights[1],\n",
    "                        }\n",
    "                    },\n",
    "                    {\n",
    "                        \"function_score\": {\n",
    "                            \"query\": text_vector_query,\n",
    "                            \"boost\": weights[2],\n",
    "                        }\n",
    "                    },\n",
    "                ]\n",
    "            }\n",
    "        },\n",
    "    }\n",
    "\n",
    "    response = es.search(index=index_name, body=hybrid_query)\n",
    "    results = [\n",
    "        (\n",
    "            hit[\"_source\"][\"metadata\"][\"article_id\"],\n",
    "            hit[\"_source\"][\"productDisplayName\"],\n",
    "            hit[\"_score\"],\n",
    "        )\n",
    "        for hit in response[\"hits\"][\"hits\"]\n",
    "    ]\n",
    "    return results"
   ]
  },
  {
   "cell_type": "code",
   "execution_count": 56,
   "metadata": {},
   "outputs": [],
   "source": [
    "from IPython.core.display import HTML\n",
    "\n",
    "\n",
    "def print_results(results):\n",
    "    for id, product, score in results:\n",
    "        print(f\"{id}: {product}: {score}\")\n",
    "\n",
    "\n",
    "# function to display product images\n",
    "\n",
    "DATASET_PATH = \"../datasets/kaggle_hm/articles.csv\"\n",
    "IMAGES_PATH = \"../datasets/kaggle_hm/images/\"\n",
    "\n",
    "\n",
    "def display_result(image_batch):\n",
    "    html_content = []\n",
    "    for img in image_batch:\n",
    "        # Handle both PIL Image and numpy array inputs\n",
    "        if isinstance(img, (int, str)):\n",
    "            try:\n",
    "                # Use the IMAGES_PATH constant for image loading\n",
    "                if os.path.exists(img):\n",
    "                    html_content.append(\n",
    "                        f'<img src=\"{img}\" style=\"margin:5px;height:200px\">'\n",
    "                    )\n",
    "                else:\n",
    "                    print(f\"Image file not found: {img}\")\n",
    "                    continue\n",
    "            except Exception as e:\n",
    "                print(f\"Error loading image file: {e}\")\n",
    "                continue\n",
    "        else:\n",
    "            print(\"Only file paths supported for now\")\n",
    "            continue\n",
    "\n",
    "    if not html_content:\n",
    "        return HTML(data=\"<div>No images to display</div>\")\n",
    "\n",
    "    return HTML(\n",
    "        data=f\"<div style='display:flex;flex-wrap:wrap'>{''.join(html_content)}</div>\"\n",
    "    )"
   ]
  },
  {
   "cell_type": "code",
   "execution_count": 94,
   "metadata": {},
   "outputs": [
    {
     "name": "stdout",
     "output_type": "stream",
     "text": [
      "0502315001: MY lined denim trouser: 0.70847577\n",
      "0256151014: Superstretch Fancy denim: 0.7081977\n",
      "0554126003: Xihibt Original Jeans: 0.706441\n",
      "0664647011: Bruce Skinny Denim: 0.7063439\n",
      "0843596002: Straight fit denim: 0.70609945\n",
      "0653145008: &DENIM Skinny RW Chic: 0.70607054\n",
      "0890381003: Leo denim trouser: 0.70588964\n",
      "0863564004: TVP Slim waist denim: 0.7057018\n",
      "0664647001: Bruce Skinny Denim Trs: 0.7056441\n",
      "0644024001: KIM denim trouser: 0.70553154\n",
      "0664813001: KIM denim trouser: 0.70545495\n",
      "0746314003: TVP Slim denim: 0.7053627\n",
      "0843596001: Straight fit denim: 0.705232\n",
      "0664647007: Bruce Skinny Denim: 0.70511323\n",
      "0808318003: TVP Slim denim: 0.7049047\n",
      "0256151015: Superstretch Fancy denim: 0.7048614\n",
      "0664647010: Bruce Skinny Denim: 0.70485455\n",
      "0664122002: &DENIM Shaping bootcut: 0.70485175\n",
      "0664072001: Cool Cropped denim straight HW: 0.70475763\n",
      "0569498002: Alala Denim: 0.70459175\n"
     ]
    },
    {
     "data": {
      "text/html": [
       "<div style='display:flex;flex-wrap:wrap'><img src=\"../datasets/kaggle_hm/images/050/0502315001.jpg\" style=\"margin:5px;height:200px\"><img src=\"../datasets/kaggle_hm/images/025/0256151014.jpg\" style=\"margin:5px;height:200px\"><img src=\"../datasets/kaggle_hm/images/055/0554126003.jpg\" style=\"margin:5px;height:200px\"><img src=\"../datasets/kaggle_hm/images/066/0664647011.jpg\" style=\"margin:5px;height:200px\"><img src=\"../datasets/kaggle_hm/images/084/0843596002.jpg\" style=\"margin:5px;height:200px\"><img src=\"../datasets/kaggle_hm/images/065/0653145008.jpg\" style=\"margin:5px;height:200px\"><img src=\"../datasets/kaggle_hm/images/089/0890381003.jpg\" style=\"margin:5px;height:200px\"><img src=\"../datasets/kaggle_hm/images/086/0863564004.jpg\" style=\"margin:5px;height:200px\"><img src=\"../datasets/kaggle_hm/images/066/0664647001.jpg\" style=\"margin:5px;height:200px\"><img src=\"../datasets/kaggle_hm/images/064/0644024001.jpg\" style=\"margin:5px;height:200px\"><img src=\"../datasets/kaggle_hm/images/066/0664813001.jpg\" style=\"margin:5px;height:200px\"><img src=\"../datasets/kaggle_hm/images/074/0746314003.jpg\" style=\"margin:5px;height:200px\"><img src=\"../datasets/kaggle_hm/images/084/0843596001.jpg\" style=\"margin:5px;height:200px\"><img src=\"../datasets/kaggle_hm/images/066/0664647007.jpg\" style=\"margin:5px;height:200px\"><img src=\"../datasets/kaggle_hm/images/080/0808318003.jpg\" style=\"margin:5px;height:200px\"><img src=\"../datasets/kaggle_hm/images/025/0256151015.jpg\" style=\"margin:5px;height:200px\"><img src=\"../datasets/kaggle_hm/images/066/0664647010.jpg\" style=\"margin:5px;height:200px\"><img src=\"../datasets/kaggle_hm/images/066/0664122002.jpg\" style=\"margin:5px;height:200px\"><img src=\"../datasets/kaggle_hm/images/066/0664072001.jpg\" style=\"margin:5px;height:200px\"><img src=\"../datasets/kaggle_hm/images/056/0569498002.jpg\" style=\"margin:5px;height:200px\"></div>"
      ],
      "text/plain": [
       "<IPython.core.display.HTML object>"
      ]
     },
     "execution_count": 94,
     "metadata": {},
     "output_type": "execute_result"
    }
   ],
   "source": [
    "# Example query\n",
    "query = \"dark blue french connection jeans for men\"\n",
    "results = search_elasticsearch(query, weights=[0, 0.8, 0.2], top_k=20)\n",
    "\n",
    "print_results(results)\n",
    "# display the images\n",
    "display_result([id_to_image[id] for id, product, score in results])"
   ]
  },
  {
   "cell_type": "code",
   "execution_count": 95,
   "metadata": {},
   "outputs": [
    {
     "name": "stdout",
     "output_type": "stream",
     "text": [
      "0300024017: Super skinny denim: 0.7096269\n",
      "0554126003: Xihibt Original Jeans: 0.70901024\n",
      "0844463001: Presley Denim Trousers: 0.7085048\n",
      "0640373001: DIV Farah flared denim: 0.7081666\n",
      "0653145002: &DENIM Skinny RW Chic: 0.70773643\n",
      "0708679002: LNY JADE HIGH DENIM: 0.70770156\n",
      "0252298015: Danae jeans: 0.70765245\n",
      "0549262007: Boyfriend LW denim: 0.707644\n",
      "0754852002: PE ANNA WIDE DENIM: 0.70755684\n",
      "0881244003: &DENIM+ Curvy jegging HW: 0.7075362\n",
      "0300024056: Super skinny denim: 0.70727074\n",
      "0617193001: Ace Skinny 5-Pocket Denim: 0.7069459\n",
      "0469562055: Skinny denim (1): 0.7067404\n",
      "0669700001: Capri denim: 0.70671844\n",
      "0853735001: Cropped denims: 0.7067069\n",
      "0614644001: Loretta denim slim HW: 0.7066469\n",
      "0849490001: Ava HW wide denim trousers: 0.7066099\n",
      "0689390003: Cashew denim: 0.70635134\n",
      "0777040001: Mother NW wide denim: 0.706326\n",
      "0469562002: Skinny denim (1): 0.7061925\n"
     ]
    },
    {
     "data": {
      "text/html": [
       "<div style='display:flex;flex-wrap:wrap'><img src=\"../datasets/kaggle_hm/images/030/0300024017.jpg\" style=\"margin:5px;height:200px\"><img src=\"../datasets/kaggle_hm/images/055/0554126003.jpg\" style=\"margin:5px;height:200px\"><img src=\"../datasets/kaggle_hm/images/084/0844463001.jpg\" style=\"margin:5px;height:200px\"><img src=\"../datasets/kaggle_hm/images/064/0640373001.jpg\" style=\"margin:5px;height:200px\"><img src=\"../datasets/kaggle_hm/images/065/0653145002.jpg\" style=\"margin:5px;height:200px\"><img src=\"../datasets/kaggle_hm/images/070/0708679002.jpg\" style=\"margin:5px;height:200px\"><img src=\"../datasets/kaggle_hm/images/025/0252298015.jpg\" style=\"margin:5px;height:200px\"><img src=\"../datasets/kaggle_hm/images/054/0549262007.jpg\" style=\"margin:5px;height:200px\"><img src=\"../datasets/kaggle_hm/images/075/0754852002.jpg\" style=\"margin:5px;height:200px\"><img src=\"../datasets/kaggle_hm/images/088/0881244003.jpg\" style=\"margin:5px;height:200px\"><img src=\"../datasets/kaggle_hm/images/030/0300024056.jpg\" style=\"margin:5px;height:200px\"><img src=\"../datasets/kaggle_hm/images/061/0617193001.jpg\" style=\"margin:5px;height:200px\"><img src=\"../datasets/kaggle_hm/images/046/0469562055.jpg\" style=\"margin:5px;height:200px\"><img src=\"../datasets/kaggle_hm/images/066/0669700001.jpg\" style=\"margin:5px;height:200px\"><img src=\"../datasets/kaggle_hm/images/085/0853735001.jpg\" style=\"margin:5px;height:200px\"><img src=\"../datasets/kaggle_hm/images/061/0614644001.jpg\" style=\"margin:5px;height:200px\"><img src=\"../datasets/kaggle_hm/images/084/0849490001.jpg\" style=\"margin:5px;height:200px\"><img src=\"../datasets/kaggle_hm/images/068/0689390003.jpg\" style=\"margin:5px;height:200px\"><img src=\"../datasets/kaggle_hm/images/077/0777040001.jpg\" style=\"margin:5px;height:200px\"><img src=\"../datasets/kaggle_hm/images/046/0469562002.jpg\" style=\"margin:5px;height:200px\"></div>"
      ],
      "text/plain": [
       "<IPython.core.display.HTML object>"
      ]
     },
     "execution_count": 95,
     "metadata": {},
     "output_type": "execute_result"
    }
   ],
   "source": [
    "# Example query\n",
    "query = \"light blue french connection jeans for women\"\n",
    "results = search_elasticsearch(query, weights=[0, 0.8, 0.2], top_k=20)\n",
    "\n",
    "print_results(results)\n",
    "# display the images\n",
    "display_result([id_to_image[id] for id, product, score in results])"
   ]
  },
  {
   "cell_type": "code",
   "execution_count": 96,
   "metadata": {},
   "outputs": [
    {
     "name": "stdout",
     "output_type": "stream",
     "text": [
      "0691761001: RESORT CORN TEE: 0.71413386\n",
      "0695322011: Lance striped shirt: 0.71163714\n",
      "0679232002: UNI SUN ss tee stripe: 0.7115141\n",
      "0614460012: CORN CLASSIC TEE: 0.71061134\n",
      "0585806003: Simon Retro Stripe Tee: 0.7095337\n",
      "0614460006: CORN CLASSIC TEE: 0.70771974\n",
      "0792301009: BABY rib tee: 0.7062561\n",
      "0643217002: CRISPY STRIPE SWEATER: 0.7059886\n",
      "0727846003: Crash short sleeve: 0.70376796\n",
      "0256096023: Basic SS henley t-shirt: 0.7034553\n",
      "0717490011: Cat Tee.: 0.70325667\n",
      "0878045001: Tobias Henley tee: 0.70275867\n",
      "0599773015: Sally Stripe Tee: 0.7024925\n",
      "0599773012: Sally Stripe Tee: 0.7024099\n",
      "0906114001: Rio Striped tee: 0.70203245\n",
      "0714340001: Basic LS Roll up t-shirt: 0.70096606\n",
      "0708753001: EQ CAMDEN TEE: 0.7007703\n",
      "0669386005: RC BORIS SHIRT.: 0.69960064\n",
      "0624486050: Brit Baby Tee: 0.69917303\n",
      "0783543020: R-Neck SS Slim ONLINE: 0.69874763\n"
     ]
    },
    {
     "data": {
      "text/html": [
       "<div style='display:flex;flex-wrap:wrap'><img src=\"../datasets/kaggle_hm/images/069/0691761001.jpg\" style=\"margin:5px;height:200px\"><img src=\"../datasets/kaggle_hm/images/069/0695322011.jpg\" style=\"margin:5px;height:200px\"><img src=\"../datasets/kaggle_hm/images/067/0679232002.jpg\" style=\"margin:5px;height:200px\"><img src=\"../datasets/kaggle_hm/images/061/0614460012.jpg\" style=\"margin:5px;height:200px\"><img src=\"../datasets/kaggle_hm/images/058/0585806003.jpg\" style=\"margin:5px;height:200px\"><img src=\"../datasets/kaggle_hm/images/061/0614460006.jpg\" style=\"margin:5px;height:200px\"><img src=\"../datasets/kaggle_hm/images/079/0792301009.jpg\" style=\"margin:5px;height:200px\"><img src=\"../datasets/kaggle_hm/images/064/0643217002.jpg\" style=\"margin:5px;height:200px\"><img src=\"../datasets/kaggle_hm/images/072/0727846003.jpg\" style=\"margin:5px;height:200px\"><img src=\"../datasets/kaggle_hm/images/025/0256096023.jpg\" style=\"margin:5px;height:200px\"><img src=\"../datasets/kaggle_hm/images/071/0717490011.jpg\" style=\"margin:5px;height:200px\"><img src=\"../datasets/kaggle_hm/images/087/0878045001.jpg\" style=\"margin:5px;height:200px\"><img src=\"../datasets/kaggle_hm/images/059/0599773015.jpg\" style=\"margin:5px;height:200px\"><img src=\"../datasets/kaggle_hm/images/059/0599773012.jpg\" style=\"margin:5px;height:200px\"><img src=\"../datasets/kaggle_hm/images/090/0906114001.jpg\" style=\"margin:5px;height:200px\"><img src=\"../datasets/kaggle_hm/images/071/0714340001.jpg\" style=\"margin:5px;height:200px\"><img src=\"../datasets/kaggle_hm/images/070/0708753001.jpg\" style=\"margin:5px;height:200px\"><img src=\"../datasets/kaggle_hm/images/066/0669386005.jpg\" style=\"margin:5px;height:200px\"><img src=\"../datasets/kaggle_hm/images/062/0624486050.jpg\" style=\"margin:5px;height:200px\"><img src=\"../datasets/kaggle_hm/images/078/0783543020.jpg\" style=\"margin:5px;height:200px\"></div>"
      ],
      "text/plain": [
       "<IPython.core.display.HTML object>"
      ]
     },
     "execution_count": 96,
     "metadata": {},
     "output_type": "execute_result"
    }
   ],
   "source": [
    "# Example query\n",
    "query = \" yellow t-shirt with stripes\"\n",
    "results = search_elasticsearch(query, weights=[0, 0.8, 0.2], top_k=20)\n",
    "\n",
    "print_results(results)\n",
    "# display the images\n",
    "display_result([id_to_image[id] for id, product, score in results])"
   ]
  },
  {
   "cell_type": "code",
   "execution_count": 98,
   "metadata": {},
   "outputs": [
    {
     "name": "stdout",
     "output_type": "stream",
     "text": [
      "0647982002: Dag shoulder tote: 0.70094013\n",
      "0475762003: Marais tote bag: 0.7007505\n",
      "0639448009: Case tote: 0.70061195\n",
      "0731344001: Amico Shopper: 0.69995254\n",
      "0739587001: Amber shopper: 0.69969594\n",
      "0510618001: Christie tote bag: 0.6992969\n",
      "0510618004: Christie tote bag: 0.6977566\n",
      "0723691001: Bag Harald Satchel: 0.6974496\n",
      "0858078001: Dominique shopper: 0.69713706\n",
      "0817053006: HANNA SMALL BAG: 0.6967028\n",
      "0690814001: Lander perforated shopper: 0.6966033\n",
      "0556669002: Meja tote bag: 0.69644773\n",
      "0562777001: Katherine tote: 0.6963093\n",
      "0639448003: Case tote: 0.6960014\n",
      "0647462002: Fedex tote: 0.6959723\n",
      "0451704003: Gary suede micro tote: 0.69572407\n",
      "0639448001: Day tote: 0.69513965\n",
      "0806931002: Seoul tote: 0.6951164\n",
      "0690734002: Ofelia bag: 0.6950636\n",
      "0603367001: Manhattan tote: 0.6950156\n"
     ]
    },
    {
     "data": {
      "text/html": [
       "<div style='display:flex;flex-wrap:wrap'><img src=\"../datasets/kaggle_hm/images/064/0647982002.jpg\" style=\"margin:5px;height:200px\"><img src=\"../datasets/kaggle_hm/images/047/0475762003.jpg\" style=\"margin:5px;height:200px\"><img src=\"../datasets/kaggle_hm/images/063/0639448009.jpg\" style=\"margin:5px;height:200px\"><img src=\"../datasets/kaggle_hm/images/073/0731344001.jpg\" style=\"margin:5px;height:200px\"><img src=\"../datasets/kaggle_hm/images/073/0739587001.jpg\" style=\"margin:5px;height:200px\"><img src=\"../datasets/kaggle_hm/images/051/0510618001.jpg\" style=\"margin:5px;height:200px\"><img src=\"../datasets/kaggle_hm/images/051/0510618004.jpg\" style=\"margin:5px;height:200px\"><img src=\"../datasets/kaggle_hm/images/072/0723691001.jpg\" style=\"margin:5px;height:200px\"><img src=\"../datasets/kaggle_hm/images/085/0858078001.jpg\" style=\"margin:5px;height:200px\"><img src=\"../datasets/kaggle_hm/images/081/0817053006.jpg\" style=\"margin:5px;height:200px\"><img src=\"../datasets/kaggle_hm/images/069/0690814001.jpg\" style=\"margin:5px;height:200px\"><img src=\"../datasets/kaggle_hm/images/055/0556669002.jpg\" style=\"margin:5px;height:200px\"><img src=\"../datasets/kaggle_hm/images/056/0562777001.jpg\" style=\"margin:5px;height:200px\"><img src=\"../datasets/kaggle_hm/images/063/0639448003.jpg\" style=\"margin:5px;height:200px\"><img src=\"../datasets/kaggle_hm/images/064/0647462002.jpg\" style=\"margin:5px;height:200px\"><img src=\"../datasets/kaggle_hm/images/045/0451704003.jpg\" style=\"margin:5px;height:200px\"><img src=\"../datasets/kaggle_hm/images/063/0639448001.jpg\" style=\"margin:5px;height:200px\"><img src=\"../datasets/kaggle_hm/images/080/0806931002.jpg\" style=\"margin:5px;height:200px\"><img src=\"../datasets/kaggle_hm/images/069/0690734002.jpg\" style=\"margin:5px;height:200px\"><img src=\"../datasets/kaggle_hm/images/060/0603367001.jpg\" style=\"margin:5px;height:200px\"></div>"
      ],
      "text/plain": [
       "<IPython.core.display.HTML object>"
      ]
     },
     "execution_count": 98,
     "metadata": {},
     "output_type": "execute_result"
    }
   ],
   "source": [
    "# Example query\n",
    "query = \"birkin hermes\"\n",
    "results = search_elasticsearch(query, weights=[0, 0.7, 0.3], top_k=20)\n",
    "\n",
    "print_results(results)\n",
    "# display the images\n",
    "display_result([id_to_image[id] for id, product, score in results])"
   ]
  },
  {
   "cell_type": "markdown",
   "metadata": {},
   "source": [
    "## image search"
   ]
  },
  {
   "cell_type": "code",
   "execution_count": 99,
   "metadata": {},
   "outputs": [
    {
     "data": {
      "text/html": [
       "<div style='display:flex;flex-wrap:wrap'><img src=\"../datasets/kaggle_hm/images/021/0215337066.jpg\" style=\"margin:5px;height:200px\"></div>"
      ],
      "text/plain": [
       "<IPython.core.display.HTML object>"
      ]
     },
     "execution_count": 99,
     "metadata": {},
     "output_type": "execute_result"
    }
   ],
   "source": [
    "def image_search(image, top_k=10):\n",
    "    image_vector = model.encode(image).tolist()\n",
    "    image_vector_query = {\n",
    "        \"size\": top_k,\n",
    "        \"query\": {\n",
    "            \"script_score\": {\n",
    "                \"query\": {\"match_all\": {}},\n",
    "                \"script\": {\n",
    "                    \"source\": \"(cosineSimilarity(params.query_vector, 'image_vector') + 1.0) / 2.0\",\n",
    "                    \"params\": {\"query_vector\": image_vector},\n",
    "                },\n",
    "            }\n",
    "        },\n",
    "    }\n",
    "    response = es.search(index=index_name, body=image_vector_query)\n",
    "    results = [\n",
    "        (\n",
    "            hit[\"_source\"][\"metadata\"][\"article_id\"],\n",
    "            hit[\"_source\"][\"productDisplayName\"],\n",
    "            hit[\"_score\"],\n",
    "        )\n",
    "        for hit in response[\"hits\"][\"hits\"]\n",
    "    ]\n",
    "    return results\n",
    "\n",
    "\n",
    "def display_image(image):\n",
    "    return display_result([image])\n",
    "\n",
    "\n",
    "article_id = metadata.iloc[300].article_id\n",
    "image_path = f\"{IMAGES_PATH}{article_id[:3]}/{article_id}.jpg\"\n",
    "image = Image.open(image_path)\n",
    "display_image(image_path)"
   ]
  },
  {
   "cell_type": "code",
   "execution_count": 100,
   "metadata": {},
   "outputs": [
    {
     "data": {
      "text/html": [
       "<div style='display:flex;flex-wrap:wrap'><img src=\"../datasets/kaggle_hm/images/021/0215337066.jpg\" style=\"margin:5px;height:200px\"><img src=\"../datasets/kaggle_hm/images/055/0554598026.jpg\" style=\"margin:5px;height:200px\"><img src=\"../datasets/kaggle_hm/images/065/0659150001.jpg\" style=\"margin:5px;height:200px\"><img src=\"../datasets/kaggle_hm/images/056/0561445003.jpg\" style=\"margin:5px;height:200px\"><img src=\"../datasets/kaggle_hm/images/057/0573282015.jpg\" style=\"margin:5px;height:200px\"><img src=\"../datasets/kaggle_hm/images/060/0607387002.jpg\" style=\"margin:5px;height:200px\"><img src=\"../datasets/kaggle_hm/images/057/0573152016.jpg\" style=\"margin:5px;height:200px\"><img src=\"../datasets/kaggle_hm/images/078/0786984001.jpg\" style=\"margin:5px;height:200px\"><img src=\"../datasets/kaggle_hm/images/070/0707772012.jpg\" style=\"margin:5px;height:200px\"><img src=\"../datasets/kaggle_hm/images/061/0615375002.jpg\" style=\"margin:5px;height:200px\"></div>"
      ],
      "text/plain": [
       "<IPython.core.display.HTML object>"
      ]
     },
     "execution_count": 100,
     "metadata": {},
     "output_type": "execute_result"
    }
   ],
   "source": [
    "results = image_search(image, top_k=10)\n",
    "display_result([id_to_image[id] for id, product, score in results])"
   ]
  },
  {
   "cell_type": "markdown",
   "metadata": {},
   "source": [
    "## image and query search"
   ]
  },
  {
   "cell_type": "code",
   "execution_count": 101,
   "metadata": {},
   "outputs": [],
   "source": [
    "def image_and_query_search(image, query, top_k=10, color_filter=None):\n",
    "    # filter by query and color first and sort by score\n",
    "    image_vector = model.encode(image).tolist()\n",
    "    text_vector = model.encode(query).tolist()\n",
    "    query_filter = {\n",
    "        \"size\": top_k,\n",
    "        \"min_score\": 0.5,\n",
    "        \"query\": {\n",
    "            \"function_score\": {\n",
    "                \"query\": {\n",
    "                    \"bool\": {\n",
    "                        \"must\": [\n",
    "                            {\n",
    "                                \"match\": {\n",
    "                                    \"productDisplayName\": {\n",
    "                                        \"query\": query,\n",
    "                                        \"minimum_should_match\": \"30%\",\n",
    "                                    }\n",
    "                                }\n",
    "                            }\n",
    "                        ],\n",
    "                        \"filter\": (\n",
    "                            [\n",
    "                                {\n",
    "                                    \"term\": {\n",
    "                                        \"metadata.perceived_colour_master_name\": color_filter\n",
    "                                    }\n",
    "                                },\n",
    "                            ]\n",
    "                            if color_filter is not None\n",
    "                            else []\n",
    "                        ),\n",
    "                    }\n",
    "                },\n",
    "                \"functions\": [\n",
    "                    {\n",
    "                        # Text similarity filter (only apply if similarity >= 0.5)\n",
    "                        \"script_score\": {\n",
    "                            \"script\": {\n",
    "                                \"source\": \"\"\"\n",
    "                                    double similarity = (cosineSimilarity(params.query_vector, 'text_vector') + 1.0) / 2.0;\n",
    "                                    return similarity >= 0.87 ? similarity * 0.2 : 0;\n",
    "                                \"\"\",\n",
    "                                \"params\": {\"query_vector\": text_vector},\n",
    "                            }\n",
    "                        }\n",
    "                    },\n",
    "                    {\n",
    "                        # Image similarity scoring\n",
    "                        \"script_score\": {\n",
    "                            \"script\": {\n",
    "                                \"source\": \"\"\"\n",
    "                                    double similarity = (cosineSimilarity(params.query_vector, 'image_vector') + 1.0) / 2.0;\n",
    "                                    return similarity >= 0.88 ? similarity * 0.8 : 0;\n",
    "                                \"\"\",\n",
    "                                \"params\": {\"query_vector\": image_vector},\n",
    "                            }\n",
    "                        }\n",
    "                    },\n",
    "                ],\n",
    "                \"score_mode\": \"sum\",  # Ensures text similarity acts as a filter, not a scoring factor\n",
    "                \"boost_mode\": \"replace\",\n",
    "            }\n",
    "        },\n",
    "    }\n",
    "\n",
    "    response = es.search(index=index_name, body=query_filter)\n",
    "    results = [\n",
    "        (\n",
    "            hit[\"_source\"][\"metadata\"][\"article_id\"],\n",
    "            hit[\"_source\"][\"productDisplayName\"],\n",
    "            hit[\"_score\"],\n",
    "        )\n",
    "        for hit in response[\"hits\"][\"hits\"]\n",
    "    ]\n",
    "    return results"
   ]
  },
  {
   "cell_type": "code",
   "execution_count": 102,
   "metadata": {},
   "outputs": [
    {
     "data": {
      "text/html": [
       "<div style='display:flex;flex-wrap:wrap'><img src=\"../datasets/kaggle_hm/images/021/0215337066.jpg\" style=\"margin:5px;height:200px\"></div>"
      ],
      "text/plain": [
       "<IPython.core.display.HTML object>"
      ]
     },
     "execution_count": 102,
     "metadata": {},
     "output_type": "execute_result"
    }
   ],
   "source": [
    "article_id = metadata.iloc[300].article_id\n",
    "image_path = f\"{IMAGES_PATH}{article_id[:3]}/{article_id}.jpg\"\n",
    "image = Image.open(image_path)\n",
    "display_image(image_path)"
   ]
  },
  {
   "cell_type": "code",
   "execution_count": 128,
   "metadata": {},
   "outputs": [
    {
     "name": "stdout",
     "output_type": "stream",
     "text": [
      "0855944002: Fiffi top: 0.8937304\n",
      "0892070001: PQ CUBA CASH SL TOP: 0.7374304\n",
      "0877222001: Lemon top: 0.7348361\n",
      "0555353008: Nancy rib top: 0.7295621\n",
      "0568065004: BAMBAM loose top (1): 0.7294848\n",
      "0485973034: Nilsson Top: 0.7289509\n",
      "0906304002: Cadillac l/s top: 0.72777236\n",
      "0621336002: PE Embla top: 0.7272623\n",
      "0660327001: Artur shell top: 0.7271081\n",
      "0516656017: TLC Top: 0.72229075\n",
      "0621363002: PE Bella bikini top 2: 0.7218301\n",
      "0665399002: J BORGO TOP EQ: 0.71979237\n",
      "0634009002: CERISE top: 0.7158413\n",
      "0887659005: Carla top: 0.7138442\n",
      "0616697002: CINNAMON strap top: 0.7128319\n",
      "0832362005: Paulina top: 0.7121215\n",
      "0574605002: Bolt top: 0.7117668\n",
      "0897732001: DIV+ Mando top: 0.71130496\n",
      "0748574002: Khloe Seamless padded soft bra: 0.70932585\n",
      "0907696004: Jinny smock top: 0.7091646\n"
     ]
    },
    {
     "data": {
      "text/html": [
       "<div style='display:flex;flex-wrap:wrap'><img src=\"../datasets/kaggle_hm/images/085/0855944002.jpg\" style=\"margin:5px;height:200px\"><img src=\"../datasets/kaggle_hm/images/089/0892070001.jpg\" style=\"margin:5px;height:200px\"><img src=\"../datasets/kaggle_hm/images/087/0877222001.jpg\" style=\"margin:5px;height:200px\"><img src=\"../datasets/kaggle_hm/images/055/0555353008.jpg\" style=\"margin:5px;height:200px\"><img src=\"../datasets/kaggle_hm/images/056/0568065004.jpg\" style=\"margin:5px;height:200px\"><img src=\"../datasets/kaggle_hm/images/048/0485973034.jpg\" style=\"margin:5px;height:200px\"><img src=\"../datasets/kaggle_hm/images/090/0906304002.jpg\" style=\"margin:5px;height:200px\"><img src=\"../datasets/kaggle_hm/images/062/0621336002.jpg\" style=\"margin:5px;height:200px\"><img src=\"../datasets/kaggle_hm/images/066/0660327001.jpg\" style=\"margin:5px;height:200px\"><img src=\"../datasets/kaggle_hm/images/051/0516656017.jpg\" style=\"margin:5px;height:200px\"><img src=\"../datasets/kaggle_hm/images/062/0621363002.jpg\" style=\"margin:5px;height:200px\"><img src=\"../datasets/kaggle_hm/images/066/0665399002.jpg\" style=\"margin:5px;height:200px\"><img src=\"../datasets/kaggle_hm/images/063/0634009002.jpg\" style=\"margin:5px;height:200px\"><img src=\"../datasets/kaggle_hm/images/088/0887659005.jpg\" style=\"margin:5px;height:200px\"><img src=\"../datasets/kaggle_hm/images/061/0616697002.jpg\" style=\"margin:5px;height:200px\"><img src=\"../datasets/kaggle_hm/images/083/0832362005.jpg\" style=\"margin:5px;height:200px\"><img src=\"../datasets/kaggle_hm/images/057/0574605002.jpg\" style=\"margin:5px;height:200px\"><img src=\"../datasets/kaggle_hm/images/089/0897732001.jpg\" style=\"margin:5px;height:200px\"><img src=\"../datasets/kaggle_hm/images/074/0748574002.jpg\" style=\"margin:5px;height:200px\"><img src=\"../datasets/kaggle_hm/images/090/0907696004.jpg\" style=\"margin:5px;height:200px\"></div>"
      ],
      "text/plain": [
       "<IPython.core.display.HTML object>"
      ]
     },
     "execution_count": 128,
     "metadata": {},
     "output_type": "execute_result"
    }
   ],
   "source": [
    "results = image_and_query_search(\n",
    "    image, \"soft top wear\", top_k=20, color_filter=\"purple\"\n",
    ")\n",
    "print_results(results)\n",
    "display_result([id_to_image[id] for id, product, score in results])"
   ]
  },
  {
   "cell_type": "code",
   "execution_count": 106,
   "metadata": {},
   "outputs": [
    {
     "data": {
      "text/html": [
       "<div style='display:flex;flex-wrap:wrap'><img src=\"../datasets/kaggle_hm/images/058/0586651006.jpg\" style=\"margin:5px;height:200px\"></div>"
      ],
      "text/plain": [
       "<IPython.core.display.HTML object>"
      ]
     },
     "execution_count": 106,
     "metadata": {},
     "output_type": "execute_result"
    }
   ],
   "source": [
    "article_id = metadata.iloc[20000].article_id\n",
    "image_path = f\"{IMAGES_PATH}{article_id[:3]}/{article_id}.jpg\"\n",
    "image = Image.open(image_path)\n",
    "display_image(image_path)"
   ]
  },
  {
   "cell_type": "code",
   "execution_count": 118,
   "metadata": {},
   "outputs": [
    {
     "name": "stdout",
     "output_type": "stream",
     "text": [
      "0615289001: SKINNY SUNBEAM PINK: 0.9438619\n",
      "0576910002: SKINNY SUNBEAM HEART PINK: 0.93690586\n",
      "0576910001: Skinny Sunbeam Pink 79: 0.933331\n",
      "0548738001: SKINNY SUNBEAM PINK: 0.9283832\n",
      "0767799016: JUST PINK DRESS(1): 0.9021936\n",
      "0771235004: LOGG Just pink dress: 0.8986049\n",
      "0767799017: JUST PINK DRESS(1): 0.89476854\n",
      "0740370003: PINK beanie: 0.7100506\n"
     ]
    },
    {
     "data": {
      "text/html": [
       "<div style='display:flex;flex-wrap:wrap'><img src=\"../datasets/kaggle_hm/images/061/0615289001.jpg\" style=\"margin:5px;height:200px\"><img src=\"../datasets/kaggle_hm/images/057/0576910002.jpg\" style=\"margin:5px;height:200px\"><img src=\"../datasets/kaggle_hm/images/057/0576910001.jpg\" style=\"margin:5px;height:200px\"><img src=\"../datasets/kaggle_hm/images/054/0548738001.jpg\" style=\"margin:5px;height:200px\"><img src=\"../datasets/kaggle_hm/images/076/0767799016.jpg\" style=\"margin:5px;height:200px\"><img src=\"../datasets/kaggle_hm/images/077/0771235004.jpg\" style=\"margin:5px;height:200px\"><img src=\"../datasets/kaggle_hm/images/076/0767799017.jpg\" style=\"margin:5px;height:200px\"><img src=\"../datasets/kaggle_hm/images/074/0740370003.jpg\" style=\"margin:5px;height:200px\"></div>"
      ],
      "text/plain": [
       "<IPython.core.display.HTML object>"
      ]
     },
     "execution_count": 118,
     "metadata": {},
     "output_type": "execute_result"
    }
   ],
   "source": [
    "results = image_and_query_search(\n",
    "    image, \"pink color bottomwear\", top_k=20, color_filter=\"pink\"\n",
    ")\n",
    "print_results(results)\n",
    "display_result([id_to_image[id] for id, product, score in results])"
   ]
  },
  {
   "cell_type": "code",
   "execution_count": null,
   "metadata": {},
   "outputs": [],
   "source": []
  }
 ],
 "metadata": {
  "kernelspec": {
   "display_name": "Python 3",
   "language": "python",
   "name": "python3"
  },
  "language_info": {
   "codemirror_mode": {
    "name": "ipython",
    "version": 3
   },
   "file_extension": ".py",
   "mimetype": "text/x-python",
   "name": "python",
   "nbconvert_exporter": "python",
   "pygments_lexer": "ipython3",
   "version": "3.11.9"
  }
 },
 "nbformat": 4,
 "nbformat_minor": 2
}
